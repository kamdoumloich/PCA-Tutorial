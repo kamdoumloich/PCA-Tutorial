{
 "cells": [
  {
   "cell_type": "markdown",
   "id": "5f36cf3a",
   "metadata": {},
   "source": [
    "## Steps to implement PCA in Python\n",
    "To have a better overview of PCA, we recommend to watch the following [video by Steve Brunton](https://www.youtube.com/watch?v=fkf4IBRSeEc)"
   ]
  },
  {
   "cell_type": "code",
   "execution_count": 1,
   "id": "8eb10102",
   "metadata": {},
   "outputs": [],
   "source": [
    "import numpy as np"
   ]
  },
  {
   "cell_type": "code",
   "execution_count": 2,
   "id": "babd1fa6",
   "metadata": {},
   "outputs": [
    {
     "data": {
      "text/plain": [
       "array([[31, 37, 22, 39, 29],\n",
       "       [15, 21, 42, 46, 42],\n",
       "       [23, 47, 39, 25, 22],\n",
       "       [32, 17, 31, 26, 20],\n",
       "       [15, 39, 39, 36, 48]])"
      ]
     },
     "execution_count": 2,
     "metadata": {},
     "output_type": "execute_result"
    }
   ],
   "source": [
    "# We generate a dummy data set\n",
    "X = np.random.randint(10,50,100).reshape(20,5)\n",
    "\n",
    "# Here are dummy generated classification classes [\"Yes\", \"No\"]\n",
    "target = np.random.randint(0,2,20).reshape(20,1)\n",
    "\n",
    "# We display the 5 first lines of our dummy data set\n",
    "X[:5,:]"
   ]
  },
  {
   "cell_type": "markdown",
   "id": "e06a50cd",
   "metadata": {},
   "source": [
    "### 1. Subtract the mean of each variable\n",
    "To center the dataset on the origin, subtract the mean of each variable from the dataset.\n",
    "This is quite beneficial for determining the covariance matrix. "
   ]
  },
  {
   "cell_type": "code",
   "execution_count": 3,
   "id": "0ff2a54f",
   "metadata": {},
   "outputs": [
    {
     "data": {
      "text/plain": [
       "array([[  0.9 ,   6.45,  -9.2 ,   9.7 ,   1.2 ],\n",
       "       [-15.1 ,  -9.55,  10.8 ,  16.7 ,  14.2 ],\n",
       "       [ -7.1 ,  16.45,   7.8 ,  -4.3 ,  -5.8 ],\n",
       "       [  1.9 , -13.55,  -0.2 ,  -3.3 ,  -7.8 ],\n",
       "       [-15.1 ,   8.45,   7.8 ,   6.7 ,  20.2 ]])"
      ]
     },
     "execution_count": 3,
     "metadata": {},
     "output_type": "execute_result"
    }
   ],
   "source": [
    "# mean Centering the data  \n",
    "X_meaned = X - np.mean(X , axis = 0)\n",
    "X_meaned[:5,:]"
   ]
  },
  {
   "cell_type": "markdown",
   "id": "4da055cd",
   "metadata": {},
   "source": [
    "### 2. Calculate the Covariance Matrix\n",
    "The [covariance matrix](https://en.wikipedia.org/wiki/Covariance_matrix), which represents the covariance of the elements with one another, is a square matrix. An element's variance alone constitutes its covariance with itself. "
   ]
  },
  {
   "cell_type": "code",
   "execution_count": 4,
   "id": "10bdad83",
   "metadata": {},
   "outputs": [
    {
     "data": {
      "text/plain": [
       "array([[122.30526316, -34.37368421, -22.86315789,  21.33684211,\n",
       "        -60.18947368],\n",
       "       [-34.37368421, 106.26052632,  21.25263158,  21.77368421,\n",
       "         34.32631579],\n",
       "       [-22.86315789,  21.25263158, 106.37894737, -16.8       ,\n",
       "         80.67368421],\n",
       "       [ 21.33684211,  21.77368421, -16.8       , 142.11578947,\n",
       "         -2.46315789],\n",
       "       [-60.18947368,  34.32631579,  80.67368421,  -2.46315789,\n",
       "        136.58947368]])"
      ]
     },
     "execution_count": 4,
     "metadata": {},
     "output_type": "execute_result"
    }
   ],
   "source": [
    "# The default value for rowvar is set to True, \n",
    "# remember to set it to False to get the covariance matrix in the required dimensions.\n",
    "cov_mat = np.cov(X_meaned , rowvar = False)\n",
    "cov_mat[:5,:]"
   ]
  },
  {
   "cell_type": "markdown",
   "id": "fe8ce2d8",
   "metadata": {},
   "source": [
    "### 3. Compute the Eigenvalues and Eigenvectors\n",
    "Each vector in the eigenvectors of the covariance matrix we obtain represents a principal axis and they are orthogonal to one another.\n",
    "\n",
    "\n",
    "Higher variability is correlated with higher eigenvalues. As a result, the primary axis with the greater Eigenvalue will be an axis that captures more data variability. "
   ]
  },
  {
   "cell_type": "code",
   "execution_count": 5,
   "id": "188e0ea5",
   "metadata": {},
   "outputs": [
    {
     "name": "stdout",
     "output_type": "stream",
     "text": [
      "Eigen Values\n",
      " [ 30.28566335  70.82574932 102.17257697 154.12956258 256.23644778]\n",
      "\n",
      "Eigen Vectors\n",
      " [[ 0.33574335  0.47171184  0.6568347  -0.08495999  0.4755148 ]\n",
      " [ 0.08625713  0.75852515 -0.41369255 -0.38646356 -0.31097216]\n",
      " [-0.65242017  0.20205613  0.54518643  0.05591549 -0.48287312]\n",
      " [-0.16446989 -0.33299525  0.12195967 -0.91323856  0.11482586]\n",
      " [ 0.65355465 -0.22453289  0.29210315 -0.07935047 -0.65637684]]\n"
     ]
    }
   ],
   "source": [
    "eigen_values , eigen_vectors = np.linalg.eigh(cov_mat)\n",
    "print(f\"Eigen Values\\n {eigen_values}\\n\")\n",
    "print(f\"Eigen Vectors\\n {eigen_vectors}\")"
   ]
  },
  {
   "cell_type": "markdown",
   "id": "37e9aa6b",
   "metadata": {},
   "source": [
    "### 4. Sort Eigenvalues in descending order\n",
    "Remember each column in the Eigen vector-matrix corresponds to a principal component. Therefore, the principal component that captures the most variability will be found in the first column of our rearranged Eigen vector matrix. "
   ]
  },
  {
   "cell_type": "code",
   "execution_count": 6,
   "id": "c06fd88d",
   "metadata": {},
   "outputs": [
    {
     "name": "stdout",
     "output_type": "stream",
     "text": [
      "Sorted eigen Values\n",
      " [256.23644778 154.12956258 102.17257697  70.82574932  30.28566335]\n",
      "\n",
      "Sorted eigen Vectors\n",
      " [[ 0.4755148  -0.08495999  0.6568347   0.47171184  0.33574335]\n",
      " [-0.31097216 -0.38646356 -0.41369255  0.75852515  0.08625713]\n",
      " [-0.48287312  0.05591549  0.54518643  0.20205613 -0.65242017]\n",
      " [ 0.11482586 -0.91323856  0.12195967 -0.33299525 -0.16446989]\n",
      " [-0.65637684 -0.07935047  0.29210315 -0.22453289  0.65355465]]\n"
     ]
    }
   ],
   "source": [
    "#sort the eigenvalues in descending order\n",
    "sorted_index = np.argsort(eigen_values)[::-1]\n",
    "sorted_eigenvalue = eigen_values[sorted_index]\n",
    "\n",
    "#similarly sort the eigenvectors \n",
    "sorted_eigenvectors = eigen_vectors[:,sorted_index]\n",
    "\n",
    "\n",
    "print(f\"Sorted eigen Values\\n {sorted_eigenvalue}\\n\")\n",
    "print(f\"Sorted eigen Vectors\\n {sorted_eigenvectors}\")"
   ]
  },
  {
   "cell_type": "markdown",
   "id": "67e88e4e",
   "metadata": {},
   "source": [
    "After having the principal components, to compute the percentage of variance (information) accounted for by each component, we divide the eigenvalue of each component by the sum of eigenvalues."
   ]
  },
  {
   "cell_type": "code",
   "execution_count": 7,
   "id": "b8439690",
   "metadata": {},
   "outputs": [
    {
     "name": "stdout",
     "output_type": "stream",
     "text": [
      "PC1: 0.41756122835670034\n",
      "PC2: 0.2511685204528071\n",
      "PC3: 0.16649975877920542\n",
      "PC4: 0.1154171747994622\n",
      "PC5: 0.04935331761182479\n"
     ]
    }
   ],
   "source": [
    "component = 0\n",
    "for x in sorted_eigenvalue:\n",
    "    component += 1\n",
    "    print(f\"PC{component}: {x/np.sum(sorted_eigenvalue)}\")"
   ]
  },
  {
   "cell_type": "markdown",
   "id": "482adce5",
   "metadata": {},
   "source": [
    "### 5. Select a subset from the rearranged Eigenvalue matrix\n",
    "Select a subset from the rearranged Eigenvalue matrix as per our need. We will select the first two principal components (PC)."
   ]
  },
  {
   "cell_type": "code",
   "execution_count": 8,
   "id": "f562bc63",
   "metadata": {},
   "outputs": [],
   "source": [
    "n_components = 2 # Number of PC\n",
    "eigenvector_subset = sorted_eigenvectors[:,0:n_components]"
   ]
  },
  {
   "cell_type": "markdown",
   "id": "dbecedd3",
   "metadata": {},
   "source": [
    "### 6. Transform the data\n",
    "A dot product between the Transpose of the Eigenvector subset and the Transpose of the mean-centered data is the final step in data transformation.\n",
    "\n",
    "The result of transposing the dot product is data that has been reduced from higher dimensions to lower dimensions. "
   ]
  },
  {
   "cell_type": "code",
   "execution_count": 9,
   "id": "48f0d237",
   "metadata": {},
   "outputs": [
    {
     "name": "stdout",
     "output_type": "stream",
     "text": [
      "[[  3.19078423 -12.0372111 ]\n",
      " [-16.82847832 -10.80035059]\n",
      " [ -8.94482311  -0.93081037]\n",
      " [  9.95453957   8.69659516]\n",
      " [-26.06387755  -9.2681584 ]]\n"
     ]
    }
   ],
   "source": [
    "X_reduced = np.dot(eigenvector_subset.transpose(),X_meaned.transpose()).transpose()\n",
    "print(X_reduced[:5,:])"
   ]
  },
  {
   "cell_type": "markdown",
   "id": "c7ff750c",
   "metadata": {},
   "source": [
    "### 7. Visualization of the results\n",
    "The results do not have any sens because, we are working with random generated data."
   ]
  },
  {
   "cell_type": "code",
   "execution_count": 10,
   "id": "2e360827",
   "metadata": {},
   "outputs": [
    {
     "data": {
      "text/plain": [
       "<AxesSubplot: xlabel='PC1', ylabel='PC2'>"
      ]
     },
     "execution_count": 10,
     "metadata": {},
     "output_type": "execute_result"
    },
    {
     "data": {
      "image/png": "[encoded data removed]",
      "text/plain": [
       "<Figure size 600x600 with 1 Axes>"
      ]
     },
     "metadata": {},
     "output_type": "display_data"
    }
   ],
   "source": [
    "import seaborn as sb\n",
    "import matplotlib.pyplot as plt\n",
    "import pandas as pd\n",
    "\n",
    "# We create a Pandas DataFrame of reduced Dataset and for original targets\n",
    "main_df = pd.DataFrame(X_reduced , columns = ['PC1','PC2'])\n",
    "target_df = pd.DataFrame(target , columns = ['target'])\n",
    "principal_df = pd.concat([main_df , pd.DataFrame(target_df)] , axis = 1)\n",
    "\n",
    "# Plot function\n",
    "plt.figure(figsize = (6,6))\n",
    "sb.scatterplot(data = principal_df, x = 'PC1', y = 'PC2', hue = 'target', \n",
    "               s = 60 , palette= 'icefire')\n"
   ]
  },
  {
   "cell_type": "markdown",
   "id": "ee8a7045",
   "metadata": {},
   "source": [
    "### Conclusion\n",
    "PCA is a very powerfull method for reducing dimensions of data.\n",
    "\n",
    "As a final exercice, apply PCA on the following data set [IRIS](https://archive.ics.uci.edu/ml/machine-learning-databases/iris/iris.data)"
   ]
  }
 ],
 "metadata": {
  "kernelspec": {
   "display_name": "Python 3 (ipykernel)",
   "language": "python",
   "name": "python3"
  },
  "language_info": {
   "codemirror_mode": {
    "name": "ipython",
    "version": 3
   },
   "file_extension": ".py",
   "mimetype": "text/x-python",
   "name": "python",
   "nbconvert_exporter": "python",
   "pygments_lexer": "ipython3",
   "version": "3.11.0"
  }
 },
 "nbformat": 4,
 "nbformat_minor": 5
}
