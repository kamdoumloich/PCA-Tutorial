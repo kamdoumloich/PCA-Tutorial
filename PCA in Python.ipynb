{
 "cells": [
  {
   "cell_type": "markdown",
   "id": "5f36cf3a",
   "metadata": {},
   "source": [
    "## Steps to implement PCA in Python\n",
    "To have a better overview of PCA, we recommend to watch the following [video by Steve Brunton](https://www.youtube.com/watch?v=fkf4IBRSeEc)"
   ]
  },
  {
   "cell_type": "code",
   "execution_count": 1,
   "id": "8eb10102",
   "metadata": {},
   "outputs": [],
   "source": [
    "import numpy as np"
   ]
  },
  {
   "cell_type": "code",
   "execution_count": 2,
   "id": "babd1fa6",
   "metadata": {},
   "outputs": [
    {
     "data": {
      "text/plain": [
       "array([[40, 39, 44, 46, 26],\n",
       "       [30, 41, 23, 15, 40],\n",
       "       [18, 15, 17, 22, 13],\n",
       "       [40, 26, 29, 44, 20],\n",
       "       [29, 37, 31, 38, 27]])"
      ]
     },
     "execution_count": 2,
     "metadata": {},
     "output_type": "execute_result"
    }
   ],
   "source": [
    "# We generate a dummy data set\n",
    "X = np.random.randint(10,50,100).reshape(20,5)\n",
    "\n",
    "# Here are dummy generated classification classes [\"Yes\", \"No\"]\n",
    "target = np.random.randint(0,2,20).reshape(20,1)\n",
    "\n",
    "# We display the 5 first lines of our dummy data set\n",
    "X[:5,:]"
   ]
  },
  {
   "cell_type": "markdown",
   "id": "e06a50cd",
   "metadata": {},
   "source": [
    "### 1. Subtract the mean of each variable\n",
    "To center the dataset on the origin, subtract the mean of each variable from the dataset.\n",
    "This is quite beneficial for determining the covariance matrix. "
   ]
  },
  {
   "cell_type": "code",
   "execution_count": 3,
   "id": "0ff2a54f",
   "metadata": {},
   "outputs": [
    {
     "data": {
      "text/plain": [
       "array([[  7.05,   8.05,  15.3 ,  18.25,  -2.05],\n",
       "       [ -2.95,  10.05,  -5.7 , -12.75,  11.95],\n",
       "       [-14.95, -15.95, -11.7 ,  -5.75, -15.05],\n",
       "       [  7.05,  -4.95,   0.3 ,  16.25,  -8.05],\n",
       "       [ -3.95,   6.05,   2.3 ,  10.25,  -1.05]])"
      ]
     },
     "execution_count": 3,
     "metadata": {},
     "output_type": "execute_result"
    }
   ],
   "source": [
    "# mean Centering the data  \n",
    "X_meaned = X - np.mean(X , axis = 0)\n",
    "X_meaned[:5,:]"
   ]
  },
  {
   "cell_type": "markdown",
   "id": "4da055cd",
   "metadata": {},
   "source": [
    "### 2. Calculate the Covariance Matrix\n",
    "The [covariance matrix](https://en.wikipedia.org/wiki/Covariance_matrix), which represents the covariance of the elements with one another, is a square matrix. An element's variance alone constitutes its covariance with itself. "
   ]
  },
  {
   "cell_type": "code",
   "execution_count": 4,
   "id": "10bdad83",
   "metadata": {},
   "outputs": [
    {
     "data": {
      "text/plain": [
       "array([[115.10263158, -24.89736842,  28.19473684, -19.59210526,\n",
       "         41.63421053],\n",
       "       [-24.89736842, 116.36578947,  19.98421053,  32.09210526,\n",
       "        -35.83947368],\n",
       "       [ 28.19473684,  19.98421053, 164.74736842,  44.76315789,\n",
       "          3.7       ],\n",
       "       [-19.59210526,  32.09210526,  44.76315789, 190.40789474,\n",
       "         -3.46052632],\n",
       "       [ 41.63421053, -35.83947368,   3.7       ,  -3.46052632,\n",
       "        134.05      ]])"
      ]
     },
     "execution_count": 4,
     "metadata": {},
     "output_type": "execute_result"
    }
   ],
   "source": [
    "# The default value for rowvar is set to True, \n",
    "# remember to set it to False to get the covariance matrix in the required dimensions.\n",
    "cov_mat = np.cov(X_meaned , rowvar = False)\n",
    "cov_mat[:5,:]"
   ]
  },
  {
   "cell_type": "markdown",
   "id": "fe8ce2d8",
   "metadata": {},
   "source": [
    "### 3. Compute the Eigenvalues and Eigenvectors\n",
    "Each vector in the eigenvectors of the covariance matrix we obtain represents a principal axis and they are orthogonal to one another.\n",
    "\n",
    "\n",
    "Higher variability is correlated with higher eigenvalues. As a result, the primary axis with the greater Eigenvalue will be an axis that captures more data variability. "
   ]
  },
  {
   "cell_type": "code",
   "execution_count": 5,
   "id": "188e0ea5",
   "metadata": {},
   "outputs": [
    {
     "name": "stdout",
     "output_type": "stream",
     "text": [
      "Eigen Values\n",
      " [ 71.23042834  82.32154153 133.35163337 194.58236942 239.18771155]\n",
      "\n",
      "Eigen Vectors\n",
      " [[-0.78851892  0.1446122  -0.14931508 -0.5605455  -0.14428781]\n",
      " [-0.06576778  0.83681719 -0.2830344   0.29070219  0.36165641]\n",
      " [ 0.34280617 -0.20763313 -0.58776789 -0.50502534  0.48872357]\n",
      " [-0.22754162 -0.1212064   0.59597048 -0.0649784   0.7577142 ]\n",
      " [ 0.4523508   0.47012956  0.44378444 -0.58481466 -0.18815986]]\n"
     ]
    }
   ],
   "source": [
    "eigen_values , eigen_vectors = np.linalg.eigh(cov_mat)\n",
    "print(f\"Eigen Values\\n {eigen_values}\\n\")\n",
    "print(f\"Eigen Vectors\\n {eigen_vectors}\")"
   ]
  },
  {
   "cell_type": "markdown",
   "id": "37e9aa6b",
   "metadata": {},
   "source": [
    "### 4. Sort Eigenvalues in descending order\n",
    "Remember each column in the Eigen vector-matrix corresponds to a principal component. Therefore, the principal component that captures the most variability will be found in the first column of our rearranged Eigen vector matrix. "
   ]
  },
  {
   "cell_type": "code",
   "execution_count": 6,
   "id": "c06fd88d",
   "metadata": {},
   "outputs": [
    {
     "name": "stdout",
     "output_type": "stream",
     "text": [
      "Sorted eigen Values\n",
      " [239.18771155 194.58236942 133.35163337  82.32154153  71.23042834]\n",
      "\n",
      "Sorted eigen Vectors\n",
      " [[-0.14428781 -0.5605455  -0.14931508  0.1446122  -0.78851892]\n",
      " [ 0.36165641  0.29070219 -0.2830344   0.83681719 -0.06576778]\n",
      " [ 0.48872357 -0.50502534 -0.58776789 -0.20763313  0.34280617]\n",
      " [ 0.7577142  -0.0649784   0.59597048 -0.1212064  -0.22754162]\n",
      " [-0.18815986 -0.58481466  0.44378444  0.47012956  0.4523508 ]]\n"
     ]
    }
   ],
   "source": [
    "#sort the eigenvalues in descending order\n",
    "sorted_index = np.argsort(eigen_values)[::-1]\n",
    "sorted_eigenvalue = eigen_values[sorted_index]\n",
    "\n",
    "#similarly sort the eigenvectors \n",
    "sorted_eigenvectors = eigen_vectors[:,sorted_index]\n",
    "\n",
    "\n",
    "print(f\"Sorted eigen Values\\n {sorted_eigenvalue}\\n\")\n",
    "print(f\"Sorted eigen Vectors\\n {sorted_eigenvectors}\")"
   ]
  },
  {
   "cell_type": "markdown",
   "id": "482adce5",
   "metadata": {},
   "source": [
    "### 5. Select a subset from the rearranged Eigenvalue matrix\n",
    "Select a subset from the rearranged Eigenvalue matrix as per our need. We will select the first two principal components (PC)."
   ]
  },
  {
   "cell_type": "code",
   "execution_count": 7,
   "id": "f562bc63",
   "metadata": {},
   "outputs": [],
   "source": [
    "n_components = 2 # Number of PC\n",
    "eigenvector_subset = sorted_eigenvectors[:,0:n_components]"
   ]
  },
  {
   "cell_type": "markdown",
   "id": "dbecedd3",
   "metadata": {},
   "source": [
    "### 6. Transform the data\n",
    "A dot product between the Transpose of the Eigenvector subset and the Transpose of the mean-centered data is the final step in data transformation.\n",
    "\n",
    "The result of transposing the dot product is data that has been reduced from higher dimensions to lower dimensions. "
   ]
  },
  {
   "cell_type": "code",
   "execution_count": 8,
   "id": "48f0d237",
   "metadata": {},
   "outputs": [
    {
     "name": "stdout",
     "output_type": "stream",
     "text": [
      "[[ 23.58558752  -9.3255665 ]\n",
      " [-10.63479475   1.29375003]\n",
      " [-10.85443352  18.8273382 ]\n",
      " [ 11.16673143  -1.89047014]\n",
      " [ 11.84616075   2.75937154]]\n"
     ]
    }
   ],
   "source": [
    "X_reduced = np.dot(eigenvector_subset.transpose(),X_meaned.transpose()).transpose()\n",
    "print(X_reduced[:5,:])"
   ]
  },
  {
   "cell_type": "markdown",
   "id": "c7ff750c",
   "metadata": {},
   "source": [
    "### 7. Visualization of the results\n",
    "The results do not have any sens because, we are working with random generated data."
   ]
  },
  {
   "cell_type": "code",
   "execution_count": 9,
   "id": "2e360827",
   "metadata": {},
   "outputs": [
    {
     "data": {
      "text/plain": [
       "<AxesSubplot: xlabel='PC1', ylabel='PC2'>"
      ]
     },
     "execution_count": 9,
     "metadata": {},
     "output_type": "execute_result"
    },
    {
     "data": {
      "image/png": "[encoded data removed]",
      "text/plain": [
       "<Figure size 600x600 with 1 Axes>"
      ]
     },
     "metadata": {},
     "output_type": "display_data"
    }
   ],
   "source": [
    "import seaborn as sb\n",
    "import matplotlib.pyplot as plt\n",
    "import pandas as pd\n",
    "\n",
    "# We create a Pandas DataFrame of reduced Dataset and for original targets\n",
    "main_df = pd.DataFrame(X_reduced , columns = ['PC1','PC2'])\n",
    "target_df = pd.DataFrame(target , columns = ['target'])\n",
    "principal_df = pd.concat([main_df , pd.DataFrame(target_df)] , axis = 1)\n",
    "\n",
    "# Plot function\n",
    "plt.figure(figsize = (6,6))\n",
    "sb.scatterplot(data = principal_df, x = 'PC1', y = 'PC2', hue = 'target', \n",
    "               s = 60 , palette= 'icefire')\n"
   ]
  },
  {
   "cell_type": "markdown",
   "id": "ee8a7045",
   "metadata": {},
   "source": [
    "### Conclusion\n",
    "PCA is a very powerfull method for reducing dimensions of data.\n",
    "\n",
    "As a final exercice, you could apply PCA on the following data set [IRIS](https://archive.ics.uci.edu/ml/machine-learning-databases/iris/iris.data)"
   ]
  }
 ],
 "metadata": {
  "kernelspec": {
   "display_name": "Python 3 (ipykernel)",
   "language": "python",
   "name": "python3"
  },
  "language_info": {
   "codemirror_mode": {
    "name": "ipython",
    "version": 3
   },
   "file_extension": ".py",
   "mimetype": "text/x-python",
   "name": "python",
   "nbconvert_exporter": "python",
   "pygments_lexer": "ipython3",
   "version": "3.11.0"
  }
 },
 "nbformat": 4,
 "nbformat_minor": 5
}
